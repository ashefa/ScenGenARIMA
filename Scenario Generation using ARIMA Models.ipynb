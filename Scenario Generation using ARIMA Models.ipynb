{
 "cells": [
  {
   "cell_type": "code",
   "execution_count": null,
   "id": "5d6d5e6b",
   "metadata": {},
   "outputs": [],
   "source": [
    "# Scenario Generation using ARIMA Models\n",
    "# Algorithm\n",
    "using OffsetArrays\n",
    "\n",
    "φ = [0.9914]\n",
    "Θ = [0.1131]\n",
    "p = length(φ)\n",
    "q = length(Θ)\n",
    "N_Ω = 2\n",
    "N_T = 3\n",
    "y₀ = 21.3567\n",
    "ϵ₀ = -0.0124\n",
    "y = OffsetArray(zeros(N_T+1,N_Ω+1), 0:N_T, 0:N_Ω)\n",
    "ϵ = copy(y)\n",
    "y[0, 0] = 21.3567\n",
    "ϵ[0, 0] = -0.0124\n",
    "ϵ[1:3, 1] = [0.0060, -0.0241, 0.0250]\n",
    "ϵ[1:3, 2] = [0.0250, -0.0008, 0.0069]\n",
    "# Step 1 : Initialize the scenario counter:\n",
    "ω = 0\n",
    "# Step 7\n",
    "while ω < N_Ω\n",
    "    # Step 2 : Update the scenario counter and initialize the time period counter:\n",
    "    ω = ω + 1\n",
    "    t = 0\n",
    "    # Step 6\n",
    "    while t < N_T\n",
    "        # Step 3 : Update the time period counter:\n",
    "        t = t + 1\n",
    "        # Step 4 : Randomly generate\n",
    "        # rand\n",
    "        # Step 5 : Evaluate expression (3.1) to obtain\n",
    "        if t == 1\n",
    "            y[t, ω] = sum(φ[j] * y[t-j, 0] for j in 1:p) + ϵ[t, ω] - sum(Θ[j] * ϵ[t-j, 0] for j in 1:q)\n",
    "        else\n",
    "            y[t, ω] = sum(φ[j] * y[t-j, ω] for j in 1:p) + ϵ[t, ω] - sum(Θ[j] * ϵ[t-j, ω] for j in 1:q)\n",
    "        end\n",
    "    end\n",
    "end\n",
    "y                  "
   ]
  }
 ],
 "metadata": {
  "kernelspec": {
   "display_name": "Julia 1.7.2",
   "language": "julia",
   "name": "julia-1.7"
  },
  "language_info": {
   "file_extension": ".jl",
   "mimetype": "application/julia",
   "name": "julia",
   "version": "1.7.2"
  }
 },
 "nbformat": 4,
 "nbformat_minor": 5
}
